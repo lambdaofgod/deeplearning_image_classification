{
 "cells": [
  {
   "cell_type": "code",
   "execution_count": 1,
   "metadata": {},
   "outputs": [],
   "source": [
    "#default_exp data_exploration"
   ]
  },
  {
   "cell_type": "code",
   "execution_count": 2,
   "metadata": {},
   "outputs": [],
   "source": [
    "# export\n",
    "import pandas as pd\n",
    "import os"
   ]
  },
  {
   "cell_type": "code",
   "execution_count": null,
   "metadata": {},
   "outputs": [],
   "source": [
    "%matplotlib inline"
   ]
  },
  {
   "cell_type": "code",
   "execution_count": 3,
   "metadata": {},
   "outputs": [],
   "source": [
    "# export\n",
    "def map_class_to_taxon(mapping, class_id, taxon='Family'):\n",
    "    return mapping.loc[class_id][taxon]"
   ]
  },
  {
   "cell_type": "code",
   "execution_count": 4,
   "metadata": {},
   "outputs": [
    {
     "name": "stdout",
     "output_type": "stream",
     "text": [
      "<class 'pandas.core.frame.DataFrame'>\n",
      "RangeIndex: 434251 entries, 0 to 434250\n",
      "Data columns (total 10 columns):\n",
      "MediaId        434251 non-null object\n",
      "YearInCLEF     434251 non-null object\n",
      "LearnTag       434251 non-null object\n",
      "ClassId        434251 non-null int64\n",
      "Species        434251 non-null object\n",
      "Genus          434251 non-null object\n",
      "Family         434251 non-null object\n",
      "Origin         434251 non-null object\n",
      "OriginalUrl    434251 non-null object\n",
      "BackupLink     434251 non-null object\n",
      "dtypes: int64(1), object(9)\n",
      "memory usage: 33.1+ MB\n"
     ]
    }
   ],
   "source": [
    "# export\n",
    "DATA_DIR = 'data'\n",
    "\n",
    "metadata_path = os.path.join(DATA_DIR, 'PlantCLEF2019MasterTraining.csv') \n",
    "metadata_df = pd.read_csv(metadata_path, sep=';')\n",
    "metadata_df.info()"
   ]
  },
  {
   "cell_type": "code",
   "execution_count": 5,
   "metadata": {
    "collapsed": true
   },
   "outputs": [
    {
     "data": {
      "text/html": [
       "<div>\n",
       "<style scoped>\n",
       "    .dataframe tbody tr th:only-of-type {\n",
       "        vertical-align: middle;\n",
       "    }\n",
       "\n",
       "    .dataframe tbody tr th {\n",
       "        vertical-align: top;\n",
       "    }\n",
       "\n",
       "    .dataframe thead th {\n",
       "        text-align: right;\n",
       "    }\n",
       "</style>\n",
       "<table border=\"1\" class=\"dataframe\">\n",
       "  <thead>\n",
       "    <tr style=\"text-align: right;\">\n",
       "      <th></th>\n",
       "      <th>MediaId</th>\n",
       "      <th>YearInCLEF</th>\n",
       "      <th>LearnTag</th>\n",
       "      <th>ClassId</th>\n",
       "      <th>Species</th>\n",
       "      <th>Genus</th>\n",
       "      <th>Family</th>\n",
       "      <th>Origin</th>\n",
       "      <th>OriginalUrl</th>\n",
       "      <th>BackupLink</th>\n",
       "    </tr>\n",
       "  </thead>\n",
       "  <tbody>\n",
       "    <tr>\n",
       "      <th>0</th>\n",
       "      <td>5c3e30f1706244e9f199d5a0c5a5ec00d1cbf473</td>\n",
       "      <td>PlantCLEF2019</td>\n",
       "      <td>Train</td>\n",
       "      <td>183350</td>\n",
       "      <td>Taralea oppositifolia Aubl.</td>\n",
       "      <td>Taralea</td>\n",
       "      <td>Leguminosae</td>\n",
       "      <td>microsoftimage</td>\n",
       "      <td>http://www.bing.com/cr?IG=E56D8ED3E44B4D6BB7E1...</td>\n",
       "      <td>http://otmedia.lirmm.fr/LifeCLEF/b/gu/183350/5...</td>\n",
       "    </tr>\n",
       "    <tr>\n",
       "      <th>1</th>\n",
       "      <td>83cead55f3be63d6fbe0c1e6c87ee2223c7a6e9b</td>\n",
       "      <td>PlantCLEF2019</td>\n",
       "      <td>Train</td>\n",
       "      <td>12254</td>\n",
       "      <td>Anacardium occidentale L.</td>\n",
       "      <td>Anacardium</td>\n",
       "      <td>Anacardiaceae</td>\n",
       "      <td>microsoftimage</td>\n",
       "      <td>http://www.bing.com/cr?IG=8DC6223C2EBC42F0A017...</td>\n",
       "      <td>http://otmedia.lirmm.fr/LifeCLEF/b/gu/12254/83...</td>\n",
       "    </tr>\n",
       "    <tr>\n",
       "      <th>2</th>\n",
       "      <td>1e2f13d4773a8feafb68930117d1773ba712aa79</td>\n",
       "      <td>PlantCLEF2019</td>\n",
       "      <td>Train</td>\n",
       "      <td>263952</td>\n",
       "      <td>Ischaemum muticum L.</td>\n",
       "      <td>Ischaemum</td>\n",
       "      <td>Poaceae</td>\n",
       "      <td>microsoftimage</td>\n",
       "      <td>http://www.bing.com/cr?IG=DDA2A184733547F09081...</td>\n",
       "      <td>http://otmedia.lirmm.fr/LifeCLEF/b/gu/263952/1...</td>\n",
       "    </tr>\n",
       "    <tr>\n",
       "      <th>3</th>\n",
       "      <td>5e49ad7196984b90ad1c5f8648fe77803b40a75b</td>\n",
       "      <td>PlantCLEF2019</td>\n",
       "      <td>Train</td>\n",
       "      <td>158247</td>\n",
       "      <td>Mezilaurus decurrens (Ducke) Kosterm.</td>\n",
       "      <td>Mezilaurus</td>\n",
       "      <td>Lauraceae</td>\n",
       "      <td>googleimage</td>\n",
       "      <td>https://encrypted-tbn0.gstatic.com/images?q=tb...</td>\n",
       "      <td>http://otmedia.lirmm.fr/LifeCLEF/b/gu/158247/5...</td>\n",
       "    </tr>\n",
       "    <tr>\n",
       "      <th>4</th>\n",
       "      <td>109240430bfcca5a7c3eec0fc6a165ad242e7d55</td>\n",
       "      <td>PlantCLEF2019</td>\n",
       "      <td>Train</td>\n",
       "      <td>24496</td>\n",
       "      <td>Tabernaemontana grandiflora Jacq.</td>\n",
       "      <td>Tabernaemontana</td>\n",
       "      <td>Apocynaceae</td>\n",
       "      <td>microsoftimage</td>\n",
       "      <td>https://www.bing.com/cr?IG=836545099C7F450589B...</td>\n",
       "      <td>http://otmedia.lirmm.fr/LifeCLEF/b/gu/24496/10...</td>\n",
       "    </tr>\n",
       "  </tbody>\n",
       "</table>\n",
       "</div>"
      ],
      "text/plain": [
       "                                    MediaId     YearInCLEF LearnTag  ClassId  \\\n",
       "0  5c3e30f1706244e9f199d5a0c5a5ec00d1cbf473  PlantCLEF2019    Train   183350   \n",
       "1  83cead55f3be63d6fbe0c1e6c87ee2223c7a6e9b  PlantCLEF2019    Train    12254   \n",
       "2  1e2f13d4773a8feafb68930117d1773ba712aa79  PlantCLEF2019    Train   263952   \n",
       "3  5e49ad7196984b90ad1c5f8648fe77803b40a75b  PlantCLEF2019    Train   158247   \n",
       "4  109240430bfcca5a7c3eec0fc6a165ad242e7d55  PlantCLEF2019    Train    24496   \n",
       "\n",
       "                                 Species            Genus         Family  \\\n",
       "0            Taralea oppositifolia Aubl.          Taralea    Leguminosae   \n",
       "1              Anacardium occidentale L.       Anacardium  Anacardiaceae   \n",
       "2                   Ischaemum muticum L.        Ischaemum        Poaceae   \n",
       "3  Mezilaurus decurrens (Ducke) Kosterm.       Mezilaurus      Lauraceae   \n",
       "4      Tabernaemontana grandiflora Jacq.  Tabernaemontana    Apocynaceae   \n",
       "\n",
       "           Origin                                        OriginalUrl  \\\n",
       "0  microsoftimage  http://www.bing.com/cr?IG=E56D8ED3E44B4D6BB7E1...   \n",
       "1  microsoftimage  http://www.bing.com/cr?IG=8DC6223C2EBC42F0A017...   \n",
       "2  microsoftimage  http://www.bing.com/cr?IG=DDA2A184733547F09081...   \n",
       "3     googleimage  https://encrypted-tbn0.gstatic.com/images?q=tb...   \n",
       "4  microsoftimage  https://www.bing.com/cr?IG=836545099C7F450589B...   \n",
       "\n",
       "                                          BackupLink  \n",
       "0  http://otmedia.lirmm.fr/LifeCLEF/b/gu/183350/5...  \n",
       "1  http://otmedia.lirmm.fr/LifeCLEF/b/gu/12254/83...  \n",
       "2  http://otmedia.lirmm.fr/LifeCLEF/b/gu/263952/1...  \n",
       "3  http://otmedia.lirmm.fr/LifeCLEF/b/gu/158247/5...  \n",
       "4  http://otmedia.lirmm.fr/LifeCLEF/b/gu/24496/10...  "
      ]
     },
     "execution_count": 5,
     "metadata": {},
     "output_type": "execute_result"
    }
   ],
   "source": [
    "metadata_df.head()"
   ]
  },
  {
   "cell_type": "code",
   "execution_count": 6,
   "metadata": {},
   "outputs": [
    {
     "data": {
      "text/plain": [
       "388594"
      ]
     },
     "execution_count": 6,
     "metadata": {},
     "output_type": "execute_result"
    }
   ],
   "source": [
    "family_counts = metadata_df['Family'].value_counts()\n",
    "family_counts[family_counts > 1000].sum()"
   ]
  },
  {
   "cell_type": "code",
   "execution_count": 7,
   "metadata": {},
   "outputs": [],
   "source": [
    "# export\n",
    "class_taxa_mapping = metadata_df.groupby('ClassId')['ClassId', 'Family', 'Genus'].apply(lambda df: df)\n",
    "class_taxa_mapping.index = class_taxa_mapping['ClassId']\n",
    "class_taxa_mapping = class_taxa_mapping.drop_duplicates('ClassId')"
   ]
  },
  {
   "cell_type": "code",
   "execution_count": 9,
   "metadata": {},
   "outputs": [
    {
     "data": {
      "text/plain": [
       "'Leguminosae'"
      ]
     },
     "execution_count": 9,
     "metadata": {},
     "output_type": "execute_result"
    }
   ],
   "source": [
    "map_class_to_taxon(class_taxa_mapping, 183350)"
   ]
  },
  {
   "cell_type": "code",
   "execution_count": 10,
   "metadata": {
    "scrolled": false
   },
   "outputs": [
    {
     "data": {
      "text/plain": [
       "Orchidaceae         37703\n",
       "Leguminosae         30122\n",
       "Poaceae             26335\n",
       "Rubiaceae           16441\n",
       "Malvaceae           14765\n",
       "Cyperaceae          12452\n",
       "Euphorbiaceae       11505\n",
       "Compositae          10364\n",
       "Araceae             10339\n",
       "Bromeliaceae         9463\n",
       "Melastomataceae      9331\n",
       "Piperaceae           8177\n",
       "Myrtaceae            7977\n",
       "Solanaceae           7501\n",
       "Apocynaceae          7450\n",
       "Arecaceae            7444\n",
       "Passifloraceae       7052\n",
       "Lamiaceae            6389\n",
       "Acanthaceae          5727\n",
       "Annonaceae           5661\n",
       "Bignoniaceae         5654\n",
       "Convolvulaceae       5615\n",
       "Lauraceae            5386\n",
       "Pteridaceae          4487\n",
       "Sapindaceae          4095\n",
       "Lentibulariaceae     4048\n",
       "Moraceae             4010\n",
       "Amaranthaceae        4001\n",
       "Malpighiaceae        3760\n",
       "Chrysobalanaceae     3508\n",
       "                    ...  \n",
       "Schizaeaceae           48\n",
       "Euphroniaceae          47\n",
       "Putranjivaceae         45\n",
       "Ixonanthaceae          45\n",
       "Brunelliaceae          42\n",
       "Staphyleaceae          38\n",
       "Nartheciaceae          34\n",
       "Sphenocleaceae         34\n",
       "Velloziaceae           32\n",
       "Schoepfiaceae          31\n",
       "Stemonuraceae          29\n",
       "Calceolariaceae        29\n",
       "Podocarpaceae          26\n",
       "Dipentodontaceae       24\n",
       "Tofieldiaceae          24\n",
       "Ulmaceae               21\n",
       "Lomariopsidaceae       21\n",
       "Gelsemiaceae           20\n",
       "Rhabdodendraceae       20\n",
       "Culcitaceae            18\n",
       "Peridiscaceae          17\n",
       "Thurniaceae            16\n",
       "Picrodendraceae        16\n",
       "Magnoliaceae           10\n",
       "Marsileaceae            8\n",
       "Martyniaceae            7\n",
       "Anisophylleaceae        7\n",
       "Canellaceae             7\n",
       "Metaxyaceae             2\n",
       "Ranunculaceae           1\n",
       "Name: Family, Length: 248, dtype: int64"
      ]
     },
     "execution_count": 10,
     "metadata": {},
     "output_type": "execute_result"
    }
   ],
   "source": [
    "metadata_df['Family'].value_counts()"
   ]
  },
  {
   "cell_type": "code",
   "execution_count": 14,
   "metadata": {},
   "outputs": [
    {
     "data": {
      "text/plain": [
       "<matplotlib.axes._subplots.AxesSubplot at 0x7f6d7f3a2c50>"
      ]
     },
     "execution_count": 14,
     "metadata": {},
     "output_type": "execute_result"
    },
    {
     "data": {
      "image/png": "[encoded data removed]",
      "text/plain": [
       "<Figure size 432x288 with 1 Axes>"
      ]
     },
     "metadata": {
      "needs_background": "light"
     },
     "output_type": "display_data"
    }
   ],
   "source": [
    "metadata_df['Genus'].value_counts().hist()"
   ]
  },
  {
   "cell_type": "code",
   "execution_count": 15,
   "metadata": {},
   "outputs": [
    {
     "data": {
      "text/plain": [
       "(10000,)"
      ]
     },
     "execution_count": 15,
     "metadata": {},
     "output_type": "execute_result"
    }
   ],
   "source": [
    "metadata_df['ClassId'].unique().shape"
   ]
  },
  {
   "cell_type": "code",
   "execution_count": 16,
   "metadata": {},
   "outputs": [
    {
     "data": {
      "text/plain": [
       "Tetrapterys fimbripetala A.Juss.                          6\n",
       "Cayaponia guianensis C.Jeffrey                            6\n",
       "Clusia panapanari (Aubl.) Choisy                          6\n",
       "Lepidagathis paraensis Kameyama                           6\n",
       "Blepharodon ulei Schltr.                                  6\n",
       "Rapatea fanshawei Maguire                                 6\n",
       "Camaridium rugosum Hoehne                                 6\n",
       "Lippia grata Schauer                                      6\n",
       "Cyperus camphoratus Liebm.                                6\n",
       "Turnera melochia Triana & Planch.                         6\n",
       "Selaginella pallescens (C. Presl) Spring                  6\n",
       "Paspalum aspidiotes Trin.                                 6\n",
       "Huntleya sessiliflora Bateman ex Lindl.                   6\n",
       "Epidendrum pachyphyton Garay                              6\n",
       "Pouteria rigida (Mart. & Eichler ex Miq.) Radlk.          6\n",
       "Aechmea huebneri Harms                                    6\n",
       "Guapira kanukuensis (Standl.) Lundell                     6\n",
       "Phoradendron strongyloclados Eichler                      6\n",
       "Ilex glomerata King                                       6\n",
       "Buchenavia sericocarpa Ducke                              6\n",
       "Stryphnodendron polystachyum (Miq.) Kleinhoonte           6\n",
       "Petrea campinae Rueda                                     6\n",
       "Gunnera schindleri L.E.Mora                               6\n",
       "Aptandra liriosmoides Spruce ex Miers                     6\n",
       "Pouteria eugeniifolia (Pierre) Baehni                     6\n",
       "Pouteria caimito (Ruiz & Pav.) Radlk.                     6\n",
       "Strychnos schultesiana Krukoff                            6\n",
       "Cordia tomentosa (Lam.) Schult.                           6\n",
       "Anthurium expansum Gleason                                5\n",
       "Psittacanthus acinarius (Mart.) Mart.                     5\n",
       "                                                         ..\n",
       "Isertia verrucosa (Humb. & Bonpl.) Standl.                1\n",
       "Oldenlandia filicaulis K.Schum.                           1\n",
       "Apinagia staheliana (Went) P.Royen                        1\n",
       "Bacopa bacopoides (Benth.) Pulle                          1\n",
       "Macrocentrum repens (Gleason) Wurdack                     1\n",
       "Deguelia longifolia (Benth.) Taub.                        1\n",
       "Besleria gibbosa (Poepp.) Hanst.                          1\n",
       "Helicostylis pedunculata Benoist                          1\n",
       "Guatteria ouregou (Aubl.) Dunal                           1\n",
       "Selaginella flabellata (L.) Spring                        1\n",
       "Hebepetalum roraimense Secco & Manni Silva                1\n",
       "Pouteria cicatricata T.D.Penn.                            1\n",
       "Macrocentrum minus Gleason                                1\n",
       "Mollia tomentosa Spruce ex Benth.                         1\n",
       "Renealmia orinocensis Rusby                               1\n",
       "Apinagia penicillata (P.Royen) P.Royen                    1\n",
       "Pouteria ambelaniifolia (Sandwith) T.D.Penn.              1\n",
       "Tanaecium duckei A.Samp.                                  1\n",
       "Rhyncholacis brassicifolia P. Royen                       1\n",
       "Isochilus linearis (Jacq.) R.Br.                          1\n",
       "Everardia longifolia Gilly                                1\n",
       "Cissampelos ovalifolia DC.                                1\n",
       "Dicranostyles longifolia Ducke                            1\n",
       "Iryanthera elliptica Ducke                                1\n",
       "Stachyarrhena acutiloba Steyerm.                          1\n",
       "Perissocarpa steyermarkii (Maguire) Steyerm. & Maguire    1\n",
       "Trilepis kanukuensis Gilly                                1\n",
       "Leandra procumbens Ule                                    1\n",
       "Everardia debilis T.Koyama & Maguire                      1\n",
       "Mollia longifolia Spruce ex Benth.                        1\n",
       "Name: Species, Length: 2000, dtype: int64"
      ]
     },
     "execution_count": 16,
     "metadata": {},
     "output_type": "execute_result"
    }
   ],
   "source": [
    "metadata_df['Species'].value_counts()[-2000:]"
   ]
  },
  {
   "cell_type": "code",
   "execution_count": 17,
   "metadata": {},
   "outputs": [
    {
     "name": "stdout",
     "output_type": "stream",
     "text": [
      "ls: cannot access 'data/images/data/101969': No such file or directory\n"
     ]
    }
   ],
   "source": [
    "!ls data/images/data/101969"
   ]
  },
  {
   "cell_type": "code",
   "execution_count": 18,
   "metadata": {},
   "outputs": [],
   "source": [
    "# export\n",
    "train_dir = 'data/images_train/data'"
   ]
  },
  {
   "cell_type": "code",
   "execution_count": 19,
   "metadata": {},
   "outputs": [],
   "source": [
    "# export\n",
    "from tensorflow import keras\n",
    "\n",
    "BATCH_SIZE = 32\n",
    "IMG_SHAPE = 224"
   ]
  },
  {
   "cell_type": "code",
   "execution_count": 20,
   "metadata": {},
   "outputs": [],
   "source": [
    "# export\n",
    "small_class_subset = [\n",
    "    '101969',\n",
    "    '102127',\n",
    "    '102475',\n",
    "    '102689',\n",
    "    '102828',\n",
    "    '102907',\n",
    "    '103084',\n",
    "    '103133',\n",
    "    '103211',\n",
    "    '104149'\n",
    "]"
   ]
  },
  {
   "cell_type": "code",
   "execution_count": 21,
   "metadata": {},
   "outputs": [
    {
     "name": "stdout",
     "output_type": "stream",
     "text": [
      "Found 674 images belonging to 10 classes.\n"
     ]
    }
   ],
   "source": [
    "# export\n",
    "image_gen = keras.preprocessing.image.ImageDataGenerator(rescale=1./255, horizontal_flip=True)\n",
    "\n",
    "train_data_gen = image_gen.flow_from_directory(batch_size=BATCH_SIZE,\n",
    "                                               directory=train_dir,\n",
    "                                               shuffle=True,\n",
    "                                               target_size=(IMG_SHAPE,IMG_SHAPE),\n",
    "                                               classes=small_class_subset\n",
    "                                              )\n"
   ]
  },
  {
   "cell_type": "code",
   "execution_count": 22,
   "metadata": {},
   "outputs": [
    {
     "data": {
      "text/plain": [
       "<keras_preprocessing.image.directory_iterator.DirectoryIterator at 0x7f6cec726898>"
      ]
     },
     "execution_count": 22,
     "metadata": {},
     "output_type": "execute_result"
    }
   ],
   "source": [
    "train_data_gen"
   ]
  },
  {
   "cell_type": "code",
   "execution_count": 23,
   "metadata": {},
   "outputs": [
    {
     "data": {
      "text/plain": [
       "['101969',\n",
       " '102127',\n",
       " '102475',\n",
       " '102689',\n",
       " '102828',\n",
       " '102907',\n",
       " '103084',\n",
       " '103133',\n",
       " '103211',\n",
       " '104149']"
      ]
     },
     "execution_count": 23,
     "metadata": {},
     "output_type": "execute_result"
    }
   ],
   "source": [
    "list(train_data_gen.class_indices)[:10]"
   ]
  },
  {
   "cell_type": "code",
   "execution_count": null,
   "metadata": {},
   "outputs": [],
   "source": []
  }
 ],
 "metadata": {
  "kernelspec": {
   "display_name": "Python 3",
   "language": "python",
   "name": "python3"
  },
  "language_info": {
   "codemirror_mode": {
    "name": "ipython",
    "version": 3
   },
   "file_extension": ".py",
   "mimetype": "text/x-python",
   "name": "python",
   "nbconvert_exporter": "python",
   "pygments_lexer": "ipython3",
   "version": "3.7.3"
  }
 },
 "nbformat": 4,
 "nbformat_minor": 2
}
