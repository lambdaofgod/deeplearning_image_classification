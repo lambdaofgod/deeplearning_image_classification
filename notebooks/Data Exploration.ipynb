{
 "cells": [
  {
   "cell_type": "code",
   "execution_count": 1,
   "metadata": {},
   "outputs": [],
   "source": [
    "#default_exp data_exploration"
   ]
  },
  {
   "cell_type": "code",
   "execution_count": 2,
   "metadata": {},
   "outputs": [],
   "source": [
    "# export\n",
    "import pandas as pd\n",
    "import os\n",
    "import matplotlib.pyplot as plt\n",
    "%matplotlib inline\n",
    "\n",
    "import tensorflow as tf\n",
    "from tensorflow import keras\n",
    "import toolz"
   ]
  },
  {
   "cell_type": "code",
   "execution_count": 3,
   "metadata": {},
   "outputs": [],
   "source": [
    "gpu_devices = tf.config.experimental.list_physical_devices('GPU')\n",
    "for device in gpu_devices:\n",
    "    tf.config.experimental.set_memory_growth(device, True)"
   ]
  },
  {
   "cell_type": "code",
   "execution_count": 4,
   "metadata": {},
   "outputs": [],
   "source": [
    "%matplotlib inline"
   ]
  },
  {
   "cell_type": "code",
   "execution_count": 5,
   "metadata": {},
   "outputs": [
    {
     "data": {
      "text/plain": [
       "array([b'hello', b'world'], dtype=object)"
      ]
     },
     "execution_count": 5,
     "metadata": {},
     "output_type": "execute_result"
    }
   ],
   "source": [
    "tf.strings.split('hello world').numpy()"
   ]
  },
  {
   "cell_type": "code",
   "execution_count": 6,
   "metadata": {},
   "outputs": [],
   "source": [
    "# export\n",
    "def map_class_to_taxon(mapping, class_id, taxon='Family'):\n",
    "    return mapping.loc[class_id][taxon]\n",
    "\n",
    "\n",
    "def parse_image(filename, image_size=224):\n",
    "    image = tf.io.read_file(filename)\n",
    "    image = tf.image.decode_jpeg(image)\n",
    "    image = tf.image.convert_image_dtype(image, tf.float32)\n",
    "    image = tf.image.resize(image, [image_size, image_size])\n",
    "    return image"
   ]
  },
  {
   "cell_type": "code",
   "execution_count": 7,
   "metadata": {},
   "outputs": [
    {
     "name": "stdout",
     "output_type": "stream",
     "text": [
      "<class 'pandas.core.frame.DataFrame'>\n",
      "RangeIndex: 434251 entries, 0 to 434250\n",
      "Data columns (total 10 columns):\n",
      "MediaId        434251 non-null object\n",
      "YearInCLEF     434251 non-null object\n",
      "LearnTag       434251 non-null object\n",
      "ClassId        434251 non-null int64\n",
      "Species        434251 non-null object\n",
      "Genus          434251 non-null object\n",
      "Family         434251 non-null object\n",
      "Origin         434251 non-null object\n",
      "OriginalUrl    434251 non-null object\n",
      "BackupLink     434251 non-null object\n",
      "dtypes: int64(1), object(9)\n",
      "memory usage: 33.1+ MB\n"
     ]
    }
   ],
   "source": [
    "# export\n",
    "DATA_DIR = os.path.join('..', 'data')\n",
    "\n",
    "metadata_path = os.path.join(DATA_DIR, 'PlantCLEF2019MasterTraining.csv') \n",
    "metadata_df = pd.read_csv(metadata_path, sep=';')\n",
    "metadata_df.info()"
   ]
  },
  {
   "cell_type": "code",
   "execution_count": 8,
   "metadata": {
    "collapsed": true
   },
   "outputs": [
    {
     "data": {
      "text/html": [
       "<div>\n",
       "<style scoped>\n",
       "    .dataframe tbody tr th:only-of-type {\n",
       "        vertical-align: middle;\n",
       "    }\n",
       "\n",
       "    .dataframe tbody tr th {\n",
       "        vertical-align: top;\n",
       "    }\n",
       "\n",
       "    .dataframe thead th {\n",
       "        text-align: right;\n",
       "    }\n",
       "</style>\n",
       "<table border=\"1\" class=\"dataframe\">\n",
       "  <thead>\n",
       "    <tr style=\"text-align: right;\">\n",
       "      <th></th>\n",
       "      <th>MediaId</th>\n",
       "      <th>YearInCLEF</th>\n",
       "      <th>LearnTag</th>\n",
       "      <th>ClassId</th>\n",
       "      <th>Species</th>\n",
       "      <th>Genus</th>\n",
       "      <th>Family</th>\n",
       "      <th>Origin</th>\n",
       "      <th>OriginalUrl</th>\n",
       "      <th>BackupLink</th>\n",
       "    </tr>\n",
       "  </thead>\n",
       "  <tbody>\n",
       "    <tr>\n",
       "      <th>0</th>\n",
       "      <td>5c3e30f1706244e9f199d5a0c5a5ec00d1cbf473</td>\n",
       "      <td>PlantCLEF2019</td>\n",
       "      <td>Train</td>\n",
       "      <td>183350</td>\n",
       "      <td>Taralea oppositifolia Aubl.</td>\n",
       "      <td>Taralea</td>\n",
       "      <td>Leguminosae</td>\n",
       "      <td>microsoftimage</td>\n",
       "      <td>http://www.bing.com/cr?IG=E56D8ED3E44B4D6BB7E1...</td>\n",
       "      <td>http://otmedia.lirmm.fr/LifeCLEF/b/gu/183350/5...</td>\n",
       "    </tr>\n",
       "    <tr>\n",
       "      <th>1</th>\n",
       "      <td>83cead55f3be63d6fbe0c1e6c87ee2223c7a6e9b</td>\n",
       "      <td>PlantCLEF2019</td>\n",
       "      <td>Train</td>\n",
       "      <td>12254</td>\n",
       "      <td>Anacardium occidentale L.</td>\n",
       "      <td>Anacardium</td>\n",
       "      <td>Anacardiaceae</td>\n",
       "      <td>microsoftimage</td>\n",
       "      <td>http://www.bing.com/cr?IG=8DC6223C2EBC42F0A017...</td>\n",
       "      <td>http://otmedia.lirmm.fr/LifeCLEF/b/gu/12254/83...</td>\n",
       "    </tr>\n",
       "    <tr>\n",
       "      <th>2</th>\n",
       "      <td>1e2f13d4773a8feafb68930117d1773ba712aa79</td>\n",
       "      <td>PlantCLEF2019</td>\n",
       "      <td>Train</td>\n",
       "      <td>263952</td>\n",
       "      <td>Ischaemum muticum L.</td>\n",
       "      <td>Ischaemum</td>\n",
       "      <td>Poaceae</td>\n",
       "      <td>microsoftimage</td>\n",
       "      <td>http://www.bing.com/cr?IG=DDA2A184733547F09081...</td>\n",
       "      <td>http://otmedia.lirmm.fr/LifeCLEF/b/gu/263952/1...</td>\n",
       "    </tr>\n",
       "    <tr>\n",
       "      <th>3</th>\n",
       "      <td>5e49ad7196984b90ad1c5f8648fe77803b40a75b</td>\n",
       "      <td>PlantCLEF2019</td>\n",
       "      <td>Train</td>\n",
       "      <td>158247</td>\n",
       "      <td>Mezilaurus decurrens (Ducke) Kosterm.</td>\n",
       "      <td>Mezilaurus</td>\n",
       "      <td>Lauraceae</td>\n",
       "      <td>googleimage</td>\n",
       "      <td>https://encrypted-tbn0.gstatic.com/images?q=tb...</td>\n",
       "      <td>http://otmedia.lirmm.fr/LifeCLEF/b/gu/158247/5...</td>\n",
       "    </tr>\n",
       "    <tr>\n",
       "      <th>4</th>\n",
       "      <td>109240430bfcca5a7c3eec0fc6a165ad242e7d55</td>\n",
       "      <td>PlantCLEF2019</td>\n",
       "      <td>Train</td>\n",
       "      <td>24496</td>\n",
       "      <td>Tabernaemontana grandiflora Jacq.</td>\n",
       "      <td>Tabernaemontana</td>\n",
       "      <td>Apocynaceae</td>\n",
       "      <td>microsoftimage</td>\n",
       "      <td>https://www.bing.com/cr?IG=836545099C7F450589B...</td>\n",
       "      <td>http://otmedia.lirmm.fr/LifeCLEF/b/gu/24496/10...</td>\n",
       "    </tr>\n",
       "  </tbody>\n",
       "</table>\n",
       "</div>"
      ],
      "text/plain": [
       "                                    MediaId     YearInCLEF LearnTag  ClassId  \\\n",
       "0  5c3e30f1706244e9f199d5a0c5a5ec00d1cbf473  PlantCLEF2019    Train   183350   \n",
       "1  83cead55f3be63d6fbe0c1e6c87ee2223c7a6e9b  PlantCLEF2019    Train    12254   \n",
       "2  1e2f13d4773a8feafb68930117d1773ba712aa79  PlantCLEF2019    Train   263952   \n",
       "3  5e49ad7196984b90ad1c5f8648fe77803b40a75b  PlantCLEF2019    Train   158247   \n",
       "4  109240430bfcca5a7c3eec0fc6a165ad242e7d55  PlantCLEF2019    Train    24496   \n",
       "\n",
       "                                 Species            Genus         Family  \\\n",
       "0            Taralea oppositifolia Aubl.          Taralea    Leguminosae   \n",
       "1              Anacardium occidentale L.       Anacardium  Anacardiaceae   \n",
       "2                   Ischaemum muticum L.        Ischaemum        Poaceae   \n",
       "3  Mezilaurus decurrens (Ducke) Kosterm.       Mezilaurus      Lauraceae   \n",
       "4      Tabernaemontana grandiflora Jacq.  Tabernaemontana    Apocynaceae   \n",
       "\n",
       "           Origin                                        OriginalUrl  \\\n",
       "0  microsoftimage  http://www.bing.com/cr?IG=E56D8ED3E44B4D6BB7E1...   \n",
       "1  microsoftimage  http://www.bing.com/cr?IG=8DC6223C2EBC42F0A017...   \n",
       "2  microsoftimage  http://www.bing.com/cr?IG=DDA2A184733547F09081...   \n",
       "3     googleimage  https://encrypted-tbn0.gstatic.com/images?q=tb...   \n",
       "4  microsoftimage  https://www.bing.com/cr?IG=836545099C7F450589B...   \n",
       "\n",
       "                                          BackupLink  \n",
       "0  http://otmedia.lirmm.fr/LifeCLEF/b/gu/183350/5...  \n",
       "1  http://otmedia.lirmm.fr/LifeCLEF/b/gu/12254/83...  \n",
       "2  http://otmedia.lirmm.fr/LifeCLEF/b/gu/263952/1...  \n",
       "3  http://otmedia.lirmm.fr/LifeCLEF/b/gu/158247/5...  \n",
       "4  http://otmedia.lirmm.fr/LifeCLEF/b/gu/24496/10...  "
      ]
     },
     "execution_count": 8,
     "metadata": {},
     "output_type": "execute_result"
    }
   ],
   "source": [
    "metadata_df.head()"
   ]
  },
  {
   "cell_type": "code",
   "execution_count": 9,
   "metadata": {},
   "outputs": [
    {
     "data": {
      "text/plain": [
       "388594"
      ]
     },
     "execution_count": 9,
     "metadata": {},
     "output_type": "execute_result"
    }
   ],
   "source": [
    "family_counts = metadata_df['Family'].value_counts()\n",
    "family_counts[family_counts > 1000].sum()"
   ]
  },
  {
   "cell_type": "code",
   "execution_count": 10,
   "metadata": {},
   "outputs": [],
   "source": [
    "# export\n",
    "class_taxa_mapping = metadata_df.groupby('ClassId')['ClassId', 'Family', 'Genus'].apply(lambda df: df)\n",
    "class_taxa_mapping.index = class_taxa_mapping['ClassId']\n",
    "class_taxa_mapping = class_taxa_mapping.drop_duplicates('ClassId')"
   ]
  },
  {
   "cell_type": "code",
   "execution_count": 11,
   "metadata": {},
   "outputs": [
    {
     "data": {
      "text/plain": [
       "'Leguminosae'"
      ]
     },
     "execution_count": 11,
     "metadata": {},
     "output_type": "execute_result"
    }
   ],
   "source": [
    "map_class_to_taxon(class_taxa_mapping, 183350)"
   ]
  },
  {
   "cell_type": "code",
   "execution_count": 12,
   "metadata": {
    "scrolled": false
   },
   "outputs": [
    {
     "data": {
      "text/plain": [
       "Orchidaceae         37703\n",
       "Leguminosae         30122\n",
       "Poaceae             26335\n",
       "Rubiaceae           16441\n",
       "Malvaceae           14765\n",
       "                    ...  \n",
       "Martyniaceae            7\n",
       "Canellaceae             7\n",
       "Anisophylleaceae        7\n",
       "Metaxyaceae             2\n",
       "Ranunculaceae           1\n",
       "Name: Family, Length: 248, dtype: int64"
      ]
     },
     "execution_count": 12,
     "metadata": {},
     "output_type": "execute_result"
    }
   ],
   "source": [
    "metadata_df['Family'].value_counts()"
   ]
  },
  {
   "cell_type": "code",
   "execution_count": 13,
   "metadata": {},
   "outputs": [
    {
     "data": {
      "text/plain": [
       "<matplotlib.axes._subplots.AxesSubplot at 0x7fe09a375f50>"
      ]
     },
     "execution_count": 13,
     "metadata": {},
     "output_type": "execute_result"
    },
    {
     "data": {
      "image/png": "[encoded data removed]",
      "text/plain": [
       "<Figure size 432x288 with 1 Axes>"
      ]
     },
     "metadata": {
      "needs_background": "light"
     },
     "output_type": "display_data"
    }
   ],
   "source": [
    "metadata_df['Genus'].value_counts().hist()"
   ]
  },
  {
   "cell_type": "code",
   "execution_count": 14,
   "metadata": {},
   "outputs": [
    {
     "data": {
      "text/plain": [
       "(10000,)"
      ]
     },
     "execution_count": 14,
     "metadata": {},
     "output_type": "execute_result"
    }
   ],
   "source": [
    "metadata_df['ClassId'].unique().shape"
   ]
  },
  {
   "cell_type": "code",
   "execution_count": 15,
   "metadata": {},
   "outputs": [
    {
     "data": {
      "text/plain": [
       "Aristolochia consimilis Mast.                  6\n",
       "Gunnera silvioana L.E.Mora                     6\n",
       "Ipomoea bignonioides Sims                      6\n",
       "Matelea cayennensis Morillo                    6\n",
       "Aechmea pallida L.B.Sm.                        6\n",
       "                                              ..\n",
       "Selaginella flabellata (L.) Spring             1\n",
       "Notopleura merumensis (Steyerm.) C.M.Taylor    1\n",
       "Coussarea granvillei Delprete & B.M.Boom       1\n",
       "Helicostylis pedunculata Benoist               1\n",
       "Pourouma ferruginea Standl.                    1\n",
       "Name: Species, Length: 2000, dtype: int64"
      ]
     },
     "execution_count": 15,
     "metadata": {},
     "output_type": "execute_result"
    }
   ],
   "source": [
    "metadata_df['Species'].value_counts()[-2000:]"
   ]
  },
  {
   "cell_type": "code",
   "execution_count": 16,
   "metadata": {},
   "outputs": [
    {
     "name": "stdout",
     "output_type": "stream",
     "text": [
      "ls: cannot access 'data/images/data/101969': No such file or directory\n"
     ]
    }
   ],
   "source": [
    "!ls data/images/data/101969"
   ]
  },
  {
   "cell_type": "code",
   "execution_count": 17,
   "metadata": {},
   "outputs": [],
   "source": [
    "# export\n",
    "train_dir = os.path.join(DATA_DIR, 'images_train/data')"
   ]
  },
  {
   "cell_type": "code",
   "execution_count": 18,
   "metadata": {},
   "outputs": [],
   "source": [
    "# export\n",
    "\n",
    "def prepare_classification_metadata(metadata_df, target_col, basepath):\n",
    "    def make_filename_from_parts(parts):\n",
    "        return os.path.join(*(basepath, *map(str, parts))) + '.jpg'\n",
    "    filename = 'MediaId'\n",
    "    df = pd.DataFrame({'class': metadata_df[target_col], 'name': metadata_df[filename]})\n",
    "    df['filename'] = metadata_df[['ClassId', filename]].agg(make_filename_from_parts, axis=1)\n",
    "    return df"
   ]
  },
  {
   "cell_type": "code",
   "execution_count": 19,
   "metadata": {},
   "outputs": [],
   "source": [
    "sample_metadata_df = metadata_df.iloc[:1000]"
   ]
  },
  {
   "cell_type": "code",
   "execution_count": 20,
   "metadata": {},
   "outputs": [],
   "source": [
    "sample_classification_df = prepare_classification_metadata(sample_metadata_df, 'Species', train_dir)"
   ]
  },
  {
   "cell_type": "code",
   "execution_count": 21,
   "metadata": {},
   "outputs": [],
   "source": [
    "image_gen = keras.preprocessing.image.ImageDataGenerator(rescale=1./255, horizontal_flip=True)"
   ]
  },
  {
   "cell_type": "code",
   "execution_count": 22,
   "metadata": {},
   "outputs": [
    {
     "name": "stdout",
     "output_type": "stream",
     "text": [
      "Found 1000 validated image filenames belonging to 867 classes.\n"
     ]
    }
   ],
   "source": [
    "sample_image_iterator = image_gen.flow_from_dataframe(sample_classification_df, target_size=(224, 224))"
   ]
  },
  {
   "cell_type": "code",
   "execution_count": 23,
   "metadata": {},
   "outputs": [],
   "source": [
    "n_classes = len(sample_image_iterator.class_indices)"
   ]
  },
  {
   "cell_type": "code",
   "execution_count": 24,
   "metadata": {},
   "outputs": [],
   "source": [
    "batch = next(sample_image_iterator)"
   ]
  },
  {
   "cell_type": "code",
   "execution_count": 25,
   "metadata": {},
   "outputs": [
    {
     "data": {
      "image/png": "[encoded data removed]",
      "text/plain": [
       "<Figure size 432x288 with 1 Axes>"
      ]
     },
     "metadata": {
      "needs_background": "light"
     },
     "output_type": "display_data"
    }
   ],
   "source": [
    "plt.imshow(batch[0][0]);"
   ]
  },
  {
   "cell_type": "code",
   "execution_count": 32,
   "metadata": {},
   "outputs": [],
   "source": [
    "import keras.applications\n",
    "\n",
    "base_model = keras.applications.MobileNet(include_top=False, input_shape=(224, 224, 3))\n",
    "model = keras.Sequential(\n",
    "    [\n",
    "        base_model,\n",
    "        keras.layers.AveragePooling2D((4, 4)),\n",
    "        keras.layers.Flatten(),\n",
    "        keras.layers.Dense(n_classes),\n",
    "        keras.layers.Softmax()\n",
    "    ])\n",
    "model.compile(loss=keras.losses.CategoricalCrossentropy(), optimizer=keras.optimizers.Adam())"
   ]
  },
  {
   "cell_type": "code",
   "execution_count": 33,
   "metadata": {},
   "outputs": [
    {
     "name": "stdout",
     "output_type": "stream",
     "text": [
      "Model: \"sequential_2\"\n",
      "_________________________________________________________________\n",
      "Layer (type)                 Output Shape              Param #   \n",
      "=================================================================\n",
      "mobilenet_1.00_224 (Model)   (None, 7, 7, 1024)        3228864   \n",
      "_________________________________________________________________\n",
      "average_pooling2d_2 (Average (None, 1, 1, 1024)        0         \n",
      "_________________________________________________________________\n",
      "flatten_2 (Flatten)          (None, 1024)              0         \n",
      "_________________________________________________________________\n",
      "dense_2 (Dense)              (None, 867)               888675    \n",
      "_________________________________________________________________\n",
      "softmax_1 (Softmax)          (None, 867)               0         \n",
      "=================================================================\n",
      "Total params: 4,117,539\n",
      "Trainable params: 4,095,651\n",
      "Non-trainable params: 21,888\n",
      "_________________________________________________________________\n"
     ]
    }
   ],
   "source": [
    "model.summary()"
   ]
  },
  {
   "cell_type": "code",
   "execution_count": 34,
   "metadata": {},
   "outputs": [
    {
     "data": {
      "text/plain": [
       "(None, 224, 224, 3)"
      ]
     },
     "execution_count": 34,
     "metadata": {},
     "output_type": "execute_result"
    }
   ],
   "source": [
    "base_model.input_shape"
   ]
  },
  {
   "cell_type": "code",
   "execution_count": 42,
   "metadata": {},
   "outputs": [
    {
     "name": "stdout",
     "output_type": "stream",
     "text": [
      "Epoch 1/10\n",
      "32/32 [==============================] - 10s 316ms/step - loss: 6.5499\n",
      "Epoch 2/10\n",
      "32/32 [==============================] - 10s 311ms/step - loss: 5.6423\n",
      "Epoch 3/10\n",
      "32/32 [==============================] - 10s 305ms/step - loss: 3.9398\n",
      "Epoch 4/10\n",
      "32/32 [==============================] - 10s 306ms/step - loss: 1.9899\n",
      "Epoch 5/10\n",
      "32/32 [==============================] - 10s 310ms/step - loss: 0.9796\n",
      "Epoch 6/10\n",
      "32/32 [==============================] - 10s 319ms/step - loss: 0.5483\n",
      "Epoch 7/10\n",
      "32/32 [==============================] - 10s 325ms/step - loss: 0.3430\n",
      "Epoch 8/10\n",
      "32/32 [==============================] - 10s 306ms/step - loss: 0.2808\n",
      "Epoch 9/10\n",
      "32/32 [==============================] - 10s 308ms/step - loss: 0.1400\n",
      "Epoch 10/10\n",
      "32/32 [==============================] - 10s 307ms/step - loss: 0.0838\n"
     ]
    },
    {
     "data": {
      "text/plain": [
       "<keras.callbacks.callbacks.History at 0x7fdf540ebe10>"
      ]
     },
     "execution_count": 42,
     "metadata": {},
     "output_type": "execute_result"
    }
   ],
   "source": [
    "model.fit(sample_image_iterator, epochs=10)"
   ]
  },
  {
   "cell_type": "code",
   "execution_count": 37,
   "metadata": {},
   "outputs": [],
   "source": [
    "preds = model.predict(batch[0])"
   ]
  },
  {
   "cell_type": "code",
   "execution_count": 41,
   "metadata": {},
   "outputs": [
    {
     "data": {
      "text/plain": [
       "0.003682344"
      ]
     },
     "execution_count": 41,
     "metadata": {},
     "output_type": "execute_result"
    }
   ],
   "source": [
    "preds[0][preds[0].argmax()]"
   ]
  }
 ],
 "metadata": {
  "kernelspec": {
   "display_name": "tf2",
   "language": "python",
   "name": "tf2"
  },
  "language_info": {
   "codemirror_mode": {
    "name": "ipython",
    "version": 3
   },
   "file_extension": ".py",
   "mimetype": "text/x-python",
   "name": "python",
   "nbconvert_exporter": "python",
   "pygments_lexer": "ipython3",
   "version": "3.7.6"
  }
 },
 "nbformat": 4,
 "nbformat_minor": 2
}
