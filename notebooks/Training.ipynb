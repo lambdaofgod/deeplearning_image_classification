{
 "cells": [
  {
   "cell_type": "code",
   "execution_count": 1,
   "metadata": {},
   "outputs": [],
   "source": [
    "#default_exp training"
   ]
  },
  {
   "cell_type": "code",
   "execution_count": 2,
   "metadata": {},
   "outputs": [],
   "source": [
    "import os\n",
    "from deeplearning_image_classification import data_loading\n",
    "\n",
    "import tensorflow as tf\n",
    "from tensorflow import keras\n",
    "\n",
    "gpu_devices = tf.config.experimental.list_physical_devices('GPU')\n",
    "for device in gpu_devices:\n",
    "    tf.config.experimental.set_memory_growth(device, True)"
   ]
  },
  {
   "cell_type": "code",
   "execution_count": 3,
   "metadata": {},
   "outputs": [],
   "source": [
    "metadata_df = data_loading.get_metadata()"
   ]
  },
  {
   "cell_type": "code",
   "execution_count": 4,
   "metadata": {},
   "outputs": [],
   "source": [
    "sample_metadata_df = metadata_df.iloc[:1000]"
   ]
  },
  {
   "cell_type": "code",
   "execution_count": 5,
   "metadata": {},
   "outputs": [],
   "source": [
    "train_dir = os.path.join(data_loading.DATA_DIR, 'images_train/data')"
   ]
  },
  {
   "cell_type": "code",
   "execution_count": 6,
   "metadata": {},
   "outputs": [],
   "source": [
    "sample_classification_df = data_loading.prepare_classification_metadata(sample_metadata_df, 'Species', train_dir)"
   ]
  },
  {
   "cell_type": "code",
   "execution_count": 7,
   "metadata": {},
   "outputs": [
    {
     "name": "stdout",
     "output_type": "stream",
     "text": [
      "Found 1000 validated image filenames belonging to 867 classes.\n"
     ]
    }
   ],
   "source": [
    "image_gen = keras.preprocessing.image.ImageDataGenerator(rescale=1./255, horizontal_flip=True)\n",
    "\n",
    "sample_image_iterator = image_gen.flow_from_dataframe(sample_classification_df, target_size=(224, 224))\n",
    "\n",
    "n_classes = len(sample_image_iterator.class_indices)"
   ]
  },
  {
   "cell_type": "code",
   "execution_count": 8,
   "metadata": {},
   "outputs": [
    {
     "name": "stderr",
     "output_type": "stream",
     "text": [
      "Using TensorFlow backend.\n"
     ]
    }
   ],
   "source": [
    "import keras.applications\n",
    "\n",
    "base_model = keras.applications.MobileNet(include_top=False, input_shape=(224, 224, 3))\n",
    "model = keras.Sequential(\n",
    "    [\n",
    "        base_model,\n",
    "        keras.layers.AveragePooling2D((4, 4)),\n",
    "        keras.layers.Flatten(),\n",
    "        keras.layers.Dense(n_classes),\n",
    "        keras.layers.Softmax()\n",
    "    ])\n",
    "model.compile(loss=keras.losses.CategoricalCrossentropy(), optimizer=keras.optimizers.Adam())"
   ]
  },
  {
   "cell_type": "code",
   "execution_count": 9,
   "metadata": {},
   "outputs": [
    {
     "name": "stdout",
     "output_type": "stream",
     "text": [
      "Model: \"sequential_1\"\n",
      "_________________________________________________________________\n",
      "Layer (type)                 Output Shape              Param #   \n",
      "=================================================================\n",
      "mobilenet_1.00_224 (Model)   (None, 7, 7, 1024)        3228864   \n",
      "_________________________________________________________________\n",
      "average_pooling2d_1 (Average (None, 1, 1, 1024)        0         \n",
      "_________________________________________________________________\n",
      "flatten_1 (Flatten)          (None, 1024)              0         \n",
      "_________________________________________________________________\n",
      "dense_1 (Dense)              (None, 867)               888675    \n",
      "_________________________________________________________________\n",
      "softmax_1 (Softmax)          (None, 867)               0         \n",
      "=================================================================\n",
      "Total params: 4,117,539\n",
      "Trainable params: 4,095,651\n",
      "Non-trainable params: 21,888\n",
      "_________________________________________________________________\n"
     ]
    }
   ],
   "source": [
    "model.summary()"
   ]
  },
  {
   "cell_type": "code",
   "execution_count": 10,
   "metadata": {},
   "outputs": [
    {
     "name": "stdout",
     "output_type": "stream",
     "text": [
      "Epoch 1/10\n",
      "32/32 [==============================] - 22s 699ms/step - loss: 7.0518\n",
      "Epoch 2/10\n",
      "32/32 [==============================] - 10s 310ms/step - loss: 6.5989\n",
      "Epoch 3/10\n",
      "32/32 [==============================] - 10s 316ms/step - loss: 5.9119\n",
      "Epoch 4/10\n",
      "32/32 [==============================] - 10s 312ms/step - loss: 4.4395\n",
      "Epoch 5/10\n",
      "32/32 [==============================] - 10s 303ms/step - loss: 2.4360\n",
      "Epoch 6/10\n",
      "32/32 [==============================] - 10s 305ms/step - loss: 0.9311\n",
      "Epoch 7/10\n",
      "32/32 [==============================] - 10s 307ms/step - loss: 0.4786\n",
      "Epoch 8/10\n",
      "32/32 [==============================] - 10s 304ms/step - loss: 0.2747\n",
      "Epoch 9/10\n",
      "32/32 [==============================] - 10s 307ms/step - loss: 0.1454\n",
      "Epoch 10/10\n",
      "32/32 [==============================] - 10s 306ms/step - loss: 0.1196\n"
     ]
    },
    {
     "data": {
      "text/plain": [
       "<keras.callbacks.callbacks.History at 0x7f37c0496d50>"
      ]
     },
     "execution_count": 10,
     "metadata": {},
     "output_type": "execute_result"
    }
   ],
   "source": [
    "model.fit(sample_image_iterator, epochs=10)"
   ]
  }
 ],
 "metadata": {
  "kernelspec": {
   "display_name": "tf2",
   "language": "python",
   "name": "tf2"
  },
  "language_info": {
   "codemirror_mode": {
    "name": "ipython",
    "version": 3
   },
   "file_extension": ".py",
   "mimetype": "text/x-python",
   "name": "python",
   "nbconvert_exporter": "python",
   "pygments_lexer": "ipython3",
   "version": "3.7.6"
  }
 },
 "nbformat": 4,
 "nbformat_minor": 2
}
