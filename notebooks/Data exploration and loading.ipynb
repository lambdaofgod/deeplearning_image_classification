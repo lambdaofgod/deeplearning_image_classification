{
 "cells": [
  {
   "cell_type": "code",
   "execution_count": null,
   "metadata": {},
   "outputs": [],
   "source": [
    "#default_exp data_loading"
   ]
  },
  {
   "cell_type": "code",
   "execution_count": null,
   "metadata": {},
   "outputs": [],
   "source": [
    "# export\n",
    "import pandas as pd\n",
    "import os\n",
    "import matplotlib.pyplot as plt\n",
    "\n",
    "import tensorflow as tf\n",
    "from tensorflow import keras\n",
    "from sklearn import model_selection\n",
    "import tqdm\n",
    "import PIL\n",
    "import numpy as np\n"
   ]
  },
  {
   "cell_type": "code",
   "execution_count": null,
   "metadata": {},
   "outputs": [],
   "source": [
    "%matplotlib inline"
   ]
  },
  {
   "cell_type": "code",
   "execution_count": null,
   "metadata": {},
   "outputs": [],
   "source": [
    "# export\n",
    "def map_class_to_taxon(mapping, class_id, taxon='Family'):\n",
    "    return mapping.loc[class_id][taxon]\n",
    "\n",
    "\n",
    "def parse_image(filename, image_size=224):\n",
    "    image = tf.io.read_file(filename)\n",
    "    image = tf.image.decode_jpeg(image)\n",
    "    image = tf.image.convert_image_dtype(image, tf.float32)\n",
    "    image = tf.image.resize(image, [image_size, image_size])\n",
    "    return image"
   ]
  },
  {
   "cell_type": "code",
   "execution_count": null,
   "metadata": {},
   "outputs": [],
   "source": [
    "# export\n",
    "DATA_DIR = os.path.join('..', 'data')\n",
    "\n",
    "\n",
    "def get_metadata(data_dir=DATA_DIR):\n",
    "    metadata_path = os.path.join(data_dir, 'PlantCLEF2019MasterTraining.csv')\n",
    "    return pd.read_csv(metadata_path, sep=';')\n",
    "    "
   ]
  },
  {
   "cell_type": "code",
   "execution_count": null,
   "metadata": {},
   "outputs": [],
   "source": [
    "metadata_df = get_metadata()"
   ]
  },
  {
   "cell_type": "code",
   "execution_count": null,
   "metadata": {},
   "outputs": [],
   "source": [
    "metadata_df.info()"
   ]
  },
  {
   "cell_type": "code",
   "execution_count": null,
   "metadata": {
    "collapsed": true
   },
   "outputs": [],
   "source": [
    "metadata_df.head()"
   ]
  },
  {
   "cell_type": "code",
   "execution_count": null,
   "metadata": {},
   "outputs": [],
   "source": [
    "family_counts = metadata_df['Family'].value_counts()\n",
    "family_counts[family_counts > 1000].sum()"
   ]
  },
  {
   "cell_type": "code",
   "execution_count": null,
   "metadata": {
    "scrolled": false
   },
   "outputs": [],
   "source": [
    "metadata_df['Family'].value_counts()"
   ]
  },
  {
   "cell_type": "code",
   "execution_count": null,
   "metadata": {},
   "outputs": [],
   "source": [
    "metadata_df['Genus'].value_counts().hist()"
   ]
  },
  {
   "cell_type": "code",
   "execution_count": null,
   "metadata": {},
   "outputs": [],
   "source": [
    "metadata_df['ClassId'].unique().shape"
   ]
  },
  {
   "cell_type": "code",
   "execution_count": null,
   "metadata": {},
   "outputs": [],
   "source": [
    "metadata_df['Species'].value_counts()[-2000:]"
   ]
  },
  {
   "cell_type": "code",
   "execution_count": null,
   "metadata": {},
   "outputs": [],
   "source": [
    "!ls data/images/data/101969"
   ]
  },
  {
   "cell_type": "code",
   "execution_count": null,
   "metadata": {},
   "outputs": [],
   "source": [
    "# export\n",
    "train_dir = os.path.join(DATA_DIR, 'images_train/data')"
   ]
  },
  {
   "cell_type": "code",
   "execution_count": null,
   "metadata": {},
   "outputs": [],
   "source": [
    "# export\n",
    "\n",
    "\n",
    "def filter_invalid_images(raw_maybe_invalid_classification_metadata_df):\n",
    "    failed_paths = []\n",
    "    for p in tqdm.tqdm(raw_classification_metadata_df['filename']):\n",
    "        try:\n",
    "            img = PIL.Image.open(p)\n",
    "            if len(np.asarray(img).shape) < 3:\n",
    "                failed_paths.append(p)\n",
    "        except:\n",
    "            failed_paths.append(p)   \n",
    "    return raw_maybe_invalid_classification_metadata_df[~raw_maybe_invalid_classification_metadata_df['filename'].isin(failed_paths)]\n",
    "\n",
    "def prepare_classification_metadata(metadata_df, target_col, basepath):\n",
    "    def make_filename_from_parts(parts):\n",
    "        return os.path.join(*(basepath, *map(str, parts))) + '.jpg'\n",
    "    filename = 'MediaId'\n",
    "    df = pd.DataFrame({'class': metadata_df[target_col], 'name': metadata_df[filename]})\n",
    "    df['filename'] = metadata_df[['ClassId', filename]].agg(make_filename_from_parts, axis=1)\n",
    "    return filter_invalid_images(df)\n"
   ]
  },
  {
   "cell_type": "code",
   "execution_count": null,
   "metadata": {},
   "outputs": [],
   "source": [
    "%%time\n",
    "\n",
    "raw_classification_metadata_df = prepare_classification_metadata(metadata_df, 'Family', train_dir)"
   ]
  },
  {
   "cell_type": "markdown",
   "metadata": {},
   "source": [
    "## Number of classes"
   ]
  },
  {
   "cell_type": "code",
   "execution_count": null,
   "metadata": {},
   "outputs": [],
   "source": [
    "raw_classification_metadata_df['class'].unique().shape"
   ]
  },
  {
   "cell_type": "markdown",
   "metadata": {},
   "source": [
    "## Number of classes with more than 1000 examples"
   ]
  },
  {
   "cell_type": "code",
   "execution_count": null,
   "metadata": {},
   "outputs": [],
   "source": [
    "classification_metadata_df = raw_classification_metadata_df"
   ]
  },
  {
   "cell_type": "code",
   "execution_count": null,
   "metadata": {},
   "outputs": [],
   "source": [
    "raw_classification_metadata_df = get_classification_metadata_df(raw_classification_metadata_df)\n",
    "raw_classification_metadata_df.shape"
   ]
  },
  {
   "cell_type": "code",
   "execution_count": null,
   "metadata": {},
   "outputs": [],
   "source": [
    "classification_metadata_df = raw_classification_metadata_df[~raw_classification_metadata_df['filename'].isin(failed_paths)]"
   ]
  },
  {
   "cell_type": "code",
   "execution_count": null,
   "metadata": {},
   "outputs": [],
   "source": [
    "train_classification_metadata_df, test_classification_metadata_df = model_selection.train_test_split(classification_metadata_df, test_size=10000, random_state=0)"
   ]
  },
  {
   "cell_type": "code",
   "execution_count": null,
   "metadata": {},
   "outputs": [],
   "source": [
    "image_gen = keras.preprocessing.image.ImageDataGenerator(rescale=1./255, horizontal_flip=True)\n",
    "\n",
    "sample_image_iterator = image_gen.flow_from_dataframe(train_classification_metadata_df, target_size=(224, 224))\n",
    "\n",
    "n_classes = len(sample_image_iterator.class_indices)"
   ]
  },
  {
   "cell_type": "code",
   "execution_count": null,
   "metadata": {},
   "outputs": [],
   "source": [
    "batch = next(sample_image_iterator)"
   ]
  },
  {
   "cell_type": "code",
   "execution_count": null,
   "metadata": {},
   "outputs": [],
   "source": [
    "plt.imshow(batch[0][1]);"
   ]
  },
  {
   "cell_type": "markdown",
   "metadata": {},
   "source": [
    "### This part will be used in script mode"
   ]
  },
  {
   "cell_type": "code",
   "execution_count": null,
   "metadata": {},
   "outputs": [],
   "source": [
    "#export\n",
    "train_csv_path = os.path.join(DATA_DIR, 'train_metadata.csv')\n",
    "test_csv_path = os.path.join(DATA_DIR, 'test_metadata.csv')\n",
    "test_size = 10000\n",
    "target_class = 'Family'\n",
    "\n",
    "\n",
    "if __name__ == '__main__':\n",
    "    metadata_df = get_metadata()\n",
    "    raw_classification_metadata_df = prepare_classification_metadata(metadata_df, 'Family', train_dir)\n",
    "    classification_metadata_df = get_classification_metadata_df(raw_classification_metadata_df)\n",
    "    train_classification_metadata_df, test_classification_metadata_df = model_selection.train_test_split(classification_metadata_df, test_size=test_size, random_state=0)\n",
    "    if os.path.exists(train_csv_path) or os.path.exists(test_csv_path):\n",
    "        raise ValueError(\"some metadata file already exists, exiting\")\n",
    "    else:\n",
    "        train_classification_metadata_df.to_csv(train_csv_path)\n",
    "        test_classification_metadata_df.to_csv(test_csv_path)"
   ]
  }
 ],
 "metadata": {
  "kernelspec": {
   "display_name": "tf2",
   "language": "python",
   "name": "tf2"
  },
  "language_info": {
   "codemirror_mode": {
    "name": "ipython",
    "version": 3
   },
   "file_extension": ".py",
   "mimetype": "text/x-python",
   "name": "python",
   "nbconvert_exporter": "python",
   "pygments_lexer": "ipython3",
   "version": "3.7.6"
  }
 },
 "nbformat": 4,
 "nbformat_minor": 2
}
